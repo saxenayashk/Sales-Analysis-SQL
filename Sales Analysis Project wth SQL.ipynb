{
 "cells": [
  {
   "cell_type": "code",
   "execution_count": 1,
   "id": "d5bdc8c3",
   "metadata": {},
   "outputs": [
    {
     "name": "stdout",
     "output_type": "stream",
     "text": [
      "Requirement already satisfied: mysql-connector-python in c:\\users\\yash saxena\\anaconda3\\lib\\site-packages (8.0.33)\n",
      "Requirement already satisfied: protobuf<=3.20.3,>=3.11.0 in c:\\users\\yash saxena\\anaconda3\\lib\\site-packages (from mysql-connector-python) (3.19.6)\n"
     ]
    }
   ],
   "source": [
    "# To install required package to connect to the mysql workbench\n",
    "!pip install mysql-connector-python"
   ]
  },
  {
   "cell_type": "code",
   "execution_count": 2,
   "id": "ff22f323",
   "metadata": {},
   "outputs": [],
   "source": [
    "import mysql.connector as conn"
   ]
  },
  {
   "cell_type": "code",
   "execution_count": 3,
   "id": "adbd46e0",
   "metadata": {},
   "outputs": [],
   "source": [
    "# Connection request by passing user and password\n",
    "# password of our mysql workbench\n",
    "mydb=conn.connect(host=\"localhost\",user=\"root\",password=\"root\")"
   ]
  },
  {
   "cell_type": "code",
   "execution_count": 4,
   "id": "24731ff0",
   "metadata": {},
   "outputs": [],
   "source": [
    "#create a cursor or pointer\n",
    "cursor=mydb.cursor()"
   ]
  },
  {
   "cell_type": "code",
   "execution_count": 5,
   "id": "31c094a9",
   "metadata": {},
   "outputs": [],
   "source": [
    "# To execute any sql command\n",
    "cursor.execute(\"show databases\")"
   ]
  },
  {
   "cell_type": "code",
   "execution_count": 6,
   "id": "0cfc5b82",
   "metadata": {},
   "outputs": [
    {
     "data": {
      "text/plain": [
       "[('db',),\n",
       " ('information_schema',),\n",
       " ('mysql',),\n",
       " ('performance_schema',),\n",
       " ('swiggy',),\n",
       " ('sys',)]"
      ]
     },
     "execution_count": 6,
     "metadata": {},
     "output_type": "execute_result"
    }
   ],
   "source": [
    "# To display all the database names\n",
    "cursor.fetchall()"
   ]
  },
  {
   "cell_type": "code",
   "execution_count": 7,
   "id": "0c6f4551",
   "metadata": {},
   "outputs": [
    {
     "ename": "DatabaseError",
     "evalue": "1007 (HY000): Can't create database 'swiggy'; database exists",
     "output_type": "error",
     "traceback": [
      "\u001b[1;31m---------------------------------------------------------------------------\u001b[0m",
      "\u001b[1;31mMySQLInterfaceError\u001b[0m                       Traceback (most recent call last)",
      "\u001b[1;32m~\\anaconda3\\lib\\site-packages\\mysql\\connector\\connection_cext.py\u001b[0m in \u001b[0;36mcmd_query\u001b[1;34m(self, query, raw, buffered, raw_as_string)\u001b[0m\n\u001b[0;32m    610\u001b[0m                 \u001b[0mquery\u001b[0m \u001b[1;33m=\u001b[0m \u001b[0mquery\u001b[0m\u001b[1;33m.\u001b[0m\u001b[0mencode\u001b[0m\u001b[1;33m(\u001b[0m\u001b[1;34m\"utf-8\"\u001b[0m\u001b[1;33m)\u001b[0m\u001b[1;33m\u001b[0m\u001b[1;33m\u001b[0m\u001b[0m\n\u001b[1;32m--> 611\u001b[1;33m             self._cmysql.query(\n\u001b[0m\u001b[0;32m    612\u001b[0m                 \u001b[0mquery\u001b[0m\u001b[1;33m,\u001b[0m\u001b[1;33m\u001b[0m\u001b[1;33m\u001b[0m\u001b[0m\n",
      "\u001b[1;31mMySQLInterfaceError\u001b[0m: Can't create database 'swiggy'; database exists",
      "\nThe above exception was the direct cause of the following exception:\n",
      "\u001b[1;31mDatabaseError\u001b[0m                             Traceback (most recent call last)",
      "\u001b[1;32m~\\AppData\\Local\\Temp\\ipykernel_18576\\742271903.py\u001b[0m in \u001b[0;36m<module>\u001b[1;34m\u001b[0m\n\u001b[1;32m----> 1\u001b[1;33m \u001b[0mcursor\u001b[0m\u001b[1;33m.\u001b[0m\u001b[0mexecute\u001b[0m\u001b[1;33m(\u001b[0m\u001b[1;34m\"create database swiggy\"\u001b[0m\u001b[1;33m)\u001b[0m\u001b[1;33m\u001b[0m\u001b[1;33m\u001b[0m\u001b[0m\n\u001b[0m",
      "\u001b[1;32m~\\anaconda3\\lib\\site-packages\\mysql\\connector\\cursor_cext.py\u001b[0m in \u001b[0;36mexecute\u001b[1;34m(self, operation, params, multi)\u001b[0m\n\u001b[0;32m    328\u001b[0m \u001b[1;33m\u001b[0m\u001b[0m\n\u001b[0;32m    329\u001b[0m         \u001b[1;32mtry\u001b[0m\u001b[1;33m:\u001b[0m\u001b[1;33m\u001b[0m\u001b[1;33m\u001b[0m\u001b[0m\n\u001b[1;32m--> 330\u001b[1;33m             result = self._cnx.cmd_query(\n\u001b[0m\u001b[0;32m    331\u001b[0m                 \u001b[0mstmt\u001b[0m\u001b[1;33m,\u001b[0m\u001b[1;33m\u001b[0m\u001b[1;33m\u001b[0m\u001b[0m\n\u001b[0;32m    332\u001b[0m                 \u001b[0mraw\u001b[0m\u001b[1;33m=\u001b[0m\u001b[0mself\u001b[0m\u001b[1;33m.\u001b[0m\u001b[0m_raw\u001b[0m\u001b[1;33m,\u001b[0m\u001b[1;33m\u001b[0m\u001b[1;33m\u001b[0m\u001b[0m\n",
      "\u001b[1;32m~\\anaconda3\\lib\\site-packages\\mysql\\connector\\connection_cext.py\u001b[0m in \u001b[0;36mcmd_query\u001b[1;34m(self, query, raw, buffered, raw_as_string)\u001b[0m\n\u001b[0;32m    617\u001b[0m             )\n\u001b[0;32m    618\u001b[0m         \u001b[1;32mexcept\u001b[0m \u001b[0mMySQLInterfaceError\u001b[0m \u001b[1;32mas\u001b[0m \u001b[0merr\u001b[0m\u001b[1;33m:\u001b[0m\u001b[1;33m\u001b[0m\u001b[1;33m\u001b[0m\u001b[0m\n\u001b[1;32m--> 619\u001b[1;33m             raise get_mysql_exception(\n\u001b[0m\u001b[0;32m    620\u001b[0m                 \u001b[0merr\u001b[0m\u001b[1;33m.\u001b[0m\u001b[0merrno\u001b[0m\u001b[1;33m,\u001b[0m \u001b[0mmsg\u001b[0m\u001b[1;33m=\u001b[0m\u001b[0merr\u001b[0m\u001b[1;33m.\u001b[0m\u001b[0mmsg\u001b[0m\u001b[1;33m,\u001b[0m \u001b[0msqlstate\u001b[0m\u001b[1;33m=\u001b[0m\u001b[0merr\u001b[0m\u001b[1;33m.\u001b[0m\u001b[0msqlstate\u001b[0m\u001b[1;33m\u001b[0m\u001b[1;33m\u001b[0m\u001b[0m\n\u001b[0;32m    621\u001b[0m             ) from err\n",
      "\u001b[1;31mDatabaseError\u001b[0m: 1007 (HY000): Can't create database 'swiggy'; database exists"
     ]
    }
   ],
   "source": [
    "cursor.execute(\"create database swiggy\")"
   ]
  },
  {
   "cell_type": "code",
   "execution_count": null,
   "id": "63fcdcae",
   "metadata": {},
   "outputs": [],
   "source": [
    "cursor.execute('create table swiggy.swiggy_signup(userid Integer,swiggyone_signup_date date)')"
   ]
  },
  {
   "cell_type": "code",
   "execution_count": null,
   "id": "ab8499cf",
   "metadata": {},
   "outputs": [],
   "source": [
    "cursor.execute('use swiggy')"
   ]
  },
  {
   "cell_type": "code",
   "execution_count": null,
   "id": "5f851080",
   "metadata": {},
   "outputs": [],
   "source": [
    "cursor.execute('show databases')"
   ]
  },
  {
   "cell_type": "code",
   "execution_count": null,
   "id": "749426f5",
   "metadata": {},
   "outputs": [],
   "source": [
    "cursor.fetchall()"
   ]
  },
  {
   "cell_type": "code",
   "execution_count": null,
   "id": "9fa91de0",
   "metadata": {},
   "outputs": [],
   "source": [
    "cursor.execute('INSERT INTO swiggy.swiggy_signup(userid,swiggyone_signup_date) VALUES (1,\"2017-09-22\"),(3,\"2017-04-21\")')"
   ]
  },
  {
   "cell_type": "code",
   "execution_count": null,
   "id": "052e1974",
   "metadata": {},
   "outputs": [],
   "source": [
    "#After every insert command\n",
    "# To make the changes reflected in the mysql workbench\n",
    "mydb.commit()"
   ]
  },
  {
   "cell_type": "code",
   "execution_count": null,
   "id": "fc6223c9",
   "metadata": {},
   "outputs": [],
   "source": [
    "cursor.execute(\"SELECT * FROM swiggy.swiggy_signup\")"
   ]
  },
  {
   "cell_type": "code",
   "execution_count": null,
   "id": "5fb401af",
   "metadata": {},
   "outputs": [],
   "source": [
    "cursor.fetchall()"
   ]
  },
  {
   "cell_type": "code",
   "execution_count": null,
   "id": "e837c1ee",
   "metadata": {},
   "outputs": [],
   "source": [
    "cursor.execute(\"create table swiggy.users(userid Integer,signup_date date)\")"
   ]
  },
  {
   "cell_type": "code",
   "execution_count": null,
   "id": "8bd796af",
   "metadata": {},
   "outputs": [],
   "source": [
    "cursor.execute('INSERT INTO swiggy.users(userid,signup_date) VALUES (1,\"2019-11-12\"),(5,\"2020-07-28\"),(8,\"2023-04-23\")')"
   ]
  },
  {
   "cell_type": "code",
   "execution_count": null,
   "id": "ab00fae6",
   "metadata": {},
   "outputs": [],
   "source": [
    "mydb.commit()"
   ]
  },
  {
   "cell_type": "code",
   "execution_count": null,
   "id": "60da58af",
   "metadata": {},
   "outputs": [],
   "source": [
    "cursor.fetchall()"
   ]
  },
  {
   "cell_type": "code",
   "execution_count": null,
   "id": "ad90a5b5",
   "metadata": {},
   "outputs": [],
   "source": [
    "cursor.execute(\"CREATE TABLE swiggy.sales(userid Integer,created_date date,product_id Integer)\")\n",
    "cursor.execute(\"USE swiggy\")\n",
    "cursor.execute(\"SHOW TABLES\")\n",
    "cursor.fetchall()"
   ]
  },
  {
   "cell_type": "code",
   "execution_count": null,
   "id": "73298976",
   "metadata": {},
   "outputs": [],
   "source": [
    "cursor.execute('INSERT INTO swiggy.sales(userid,created_date,product_id)VALUES(1,\"2017-04-19\",2),(3,\"2019-12-18\",1),(2,\"2020-07-20\",3)')\n"
   ]
  },
  {
   "cell_type": "code",
   "execution_count": null,
   "id": "df881e22",
   "metadata": {},
   "outputs": [],
   "source": [
    "cursor.execute('INSERT INTO swiggy.sales(userid,created_date,product_id)VALUES(1,\"2018-08-11\",5),(3,\"2020-07-21\",4),(2,\"2017-05-26\",8)')"
   ]
  },
  {
   "cell_type": "code",
   "execution_count": null,
   "id": "5873f52e",
   "metadata": {},
   "outputs": [],
   "source": [
    "cursor.fetchall()"
   ]
  },
  {
   "cell_type": "code",
   "execution_count": null,
   "id": "f57be8dc",
   "metadata": {},
   "outputs": [],
   "source": [
    "cursor.execute(\"select * from swiggy.sales\")\n",
    "cursor.fetchall()    "
   ]
  },
  {
   "cell_type": "code",
   "execution_count": null,
   "id": "d1694731",
   "metadata": {},
   "outputs": [],
   "source": [
    "mydb.commit()"
   ]
  },
  {
   "cell_type": "code",
   "execution_count": null,
   "id": "c1ba6544",
   "metadata": {},
   "outputs": [],
   "source": [
    "cursor.execute(\"CREATE TABLE swiggy.products(product_id Integer,product_name text,price Integer)\")\n",
    "cursor.execute(\"USE swiggy\")\n",
    "cursor.execute(\"SHOW TABLES\")\n",
    "cursor.fetchall()"
   ]
  },
  {
   "cell_type": "code",
   "execution_count": null,
   "id": "037c172d",
   "metadata": {},
   "outputs": [],
   "source": [
    "cursor.execute('INSERT INTO swiggy.products(product_id,product_name,price)VALUES(1,\"p1\",980),(2,\"p2\",870),(3,\"p3\",330)')"
   ]
  },
  {
   "cell_type": "code",
   "execution_count": null,
   "id": "ddc18a15",
   "metadata": {},
   "outputs": [],
   "source": [
    "cursor.execute(\"select * from swiggy.products\")\n",
    "cursor.fetchall()    "
   ]
  },
  {
   "cell_type": "code",
   "execution_count": null,
   "id": "25662fef",
   "metadata": {},
   "outputs": [],
   "source": [
    "mydb.commit()"
   ]
  },
  {
   "cell_type": "code",
   "execution_count": null,
   "id": "6aa7ee08",
   "metadata": {},
   "outputs": [],
   "source": [
    "#Sales Analysis\n",
    "#1. what is the total amount each customer is spending on swiggy platform\n",
    "cursor.execute('select s.userid , SUM(p.price) TotalAmount FROM sales s INNER JOIN products p ON s.product_id=p.product_id GROUP BY s.userid;')\n",
    "cursor.fetchall()"
   ]
  },
  {
   "cell_type": "code",
   "execution_count": null,
   "id": "5786f89b",
   "metadata": {},
   "outputs": [],
   "source": []
  }
 ],
 "metadata": {
  "kernelspec": {
   "display_name": "Python 3 (ipykernel)",
   "language": "python",
   "name": "python3"
  },
  "language_info": {
   "codemirror_mode": {
    "name": "ipython",
    "version": 3
   },
   "file_extension": ".py",
   "mimetype": "text/x-python",
   "name": "python",
   "nbconvert_exporter": "python",
   "pygments_lexer": "ipython3",
   "version": "3.9.13"
  }
 },
 "nbformat": 4,
 "nbformat_minor": 5
}
